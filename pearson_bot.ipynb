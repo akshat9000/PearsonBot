{
 "cells": [
  {
   "cell_type": "code",
   "execution_count": 1,
   "metadata": {},
   "outputs": [],
   "source": [
    "import numpy as np\n",
    "import pandas as pd\n",
    "import os\n",
    "import datetime\n",
    "from tqdm import tqdm"
   ]
  },
  {
   "cell_type": "code",
   "execution_count": 2,
   "metadata": {},
   "outputs": [],
   "source": [
    "import matplotlib.pyplot as plt\n",
    "%matplotlib inline"
   ]
  },
  {
   "cell_type": "code",
   "execution_count": 3,
   "metadata": {},
   "outputs": [],
   "source": [
    "import warnings\n",
    "warnings.simplefilter(\"ignore\")"
   ]
  },
  {
   "cell_type": "code",
   "execution_count": 4,
   "metadata": {},
   "outputs": [],
   "source": [
    "import data_feeder"
   ]
  },
  {
   "cell_type": "code",
   "execution_count": 6,
   "metadata": {},
   "outputs": [],
   "source": [
    "from sklearn.linear_model import LinearRegression"
   ]
  },
  {
   "cell_type": "markdown",
   "metadata": {},
   "source": [
    "## Main Class"
   ]
  },
  {
   "cell_type": "code",
   "execution_count": 8,
   "metadata": {},
   "outputs": [],
   "source": [
    "class PearsonBot:\n",
    "    def __init__(self, timeframe: int = 30, min_linreg: int = 3) -> object:\n",
    "        self.timeframe = timeframe\n",
    "        self.min_linreg = min_linreg\n",
    "        self.df_timeframe = pd.DataFrame()\n",
    "        self.counter = 0\n",
    "        self.m = np.nan\n",
    "        self.c = np.nan\n",
    "        self.process = True\n",
    "        self.std = np.nan\n",
    "        self.temp_flag = True\n",
    "    \n",
    "    def flush_counter(self):\n",
    "        self.counter = 0\n",
    "    \n",
    "    def flush_df(self):\n",
    "        self.df_timeframe = pd.DataFrame()\n",
    "    \n",
    "    def flush_coeffs(self):\n",
    "        self.m = np.nan\n",
    "        self.c = np.nan\n",
    "    \n",
    "    def flush_all(self):\n",
    "        self.flush_df()\n",
    "        self.flush_counter()\n",
    "        self.flush_coeffs()\n",
    "    \n",
    "    def calc_hl2(self) -> None:\n",
    "        self.df_timeframe['hl2'] = ((self.df_timeframe['High'] - self.df_timeframe['Low']) / 2) + self.df_timeframe['Low']\n",
    "    \n",
    "    def calc_coeffs(self, df):\n",
    "        lr = LinearRegression()\n",
    "        lr.fit(df[['index']], df['hl2'])\n",
    "        self.m = lr.coef_\n",
    "        self.c = lr.intercept_\n",
    "    \n",
    "    def lin_reg_fn(self, x):\n",
    "        return (self.m * x) + self.c\n",
    "    \n",
    "    def calc_lr(self):\n",
    "        self.calc_coeffs()\n",
    "        self.df_timeframe['lin_reg'] = self.df_timeframe['index'].apply(self.lin_reg_fn)\n",
    "\n",
    "    def on_tick(self, df: pd.DataFrame):\n",
    "        if self.counter <= self.timeframe:\n",
    "            df['Datetime'] = pd.to_datetime(df['Datetime'])\n",
    "            self.df_timeframe = pd.concat([self.df_timeframe, df])\n",
    "        else:\n",
    "            if self.process:\n",
    "                self.calc_hl2()\n",
    "                self.df_timeframe = self.df_timeframe.reset_index().drop(columns='index').reset_index()\n",
    "                self.calc_lr()\n",
    "                self.std = self.df_timeframe['hl2'].std()\n",
    "                self.lin_reg_height = (self.df_timeframe['lin_reg'].max() - self.df_timeframe['lin_reg'].min())\n",
    "                self.process = False\n",
    "            else:\n",
    "                print('monitoring...')\n",
    "                self.flush_all()\n",
    "                self.temp_flag = False      \n",
    "    \n",
    "    def display(self):\n",
    "        self.df_timeframe[['hl2','lin_reg']].plot(figsize=(15,15))\n",
    "    \n",
    "    def main(self):\n",
    "        for df in tqdm(data_feeder.get_ticks()):\n",
    "            if self.temp_flag:\n",
    "                self.on_tick()\n",
    "            else:\n",
    "                break\n",
    "        \n",
    "        self.display()"
   ]
  },
  {
   "cell_type": "code",
   "execution_count": 9,
   "metadata": {},
   "outputs": [],
   "source": [
    "pb = PearsonBot()"
   ]
  },
  {
   "cell_type": "code",
   "execution_count": 10,
   "metadata": {},
   "outputs": [
    {
     "ename": "TypeError",
     "evalue": "get_ticks() missing 1 required positional argument: 'df'",
     "output_type": "error",
     "traceback": [
      "\u001b[1;31m---------------------------------------------------------------------------\u001b[0m",
      "\u001b[1;31mTypeError\u001b[0m                                 Traceback (most recent call last)",
      "\u001b[1;32m~\\AppData\\Local\\Temp/ipykernel_13948/3383455714.py\u001b[0m in \u001b[0;36m<module>\u001b[1;34m\u001b[0m\n\u001b[1;32m----> 1\u001b[1;33m \u001b[0mpb\u001b[0m\u001b[1;33m.\u001b[0m\u001b[0mmain\u001b[0m\u001b[1;33m(\u001b[0m\u001b[1;33m)\u001b[0m\u001b[1;33m\u001b[0m\u001b[1;33m\u001b[0m\u001b[0m\n\u001b[0m",
      "\u001b[1;32m~\\AppData\\Local\\Temp/ipykernel_13948/1239703069.py\u001b[0m in \u001b[0;36mmain\u001b[1;34m(self)\u001b[0m\n\u001b[0;32m     63\u001b[0m \u001b[1;33m\u001b[0m\u001b[0m\n\u001b[0;32m     64\u001b[0m     \u001b[1;32mdef\u001b[0m \u001b[0mmain\u001b[0m\u001b[1;33m(\u001b[0m\u001b[0mself\u001b[0m\u001b[1;33m)\u001b[0m\u001b[1;33m:\u001b[0m\u001b[1;33m\u001b[0m\u001b[1;33m\u001b[0m\u001b[0m\n\u001b[1;32m---> 65\u001b[1;33m         \u001b[1;32mfor\u001b[0m \u001b[0mdf\u001b[0m \u001b[1;32min\u001b[0m \u001b[0mtqdm\u001b[0m\u001b[1;33m(\u001b[0m\u001b[0mdata_feeder\u001b[0m\u001b[1;33m.\u001b[0m\u001b[0mget_ticks\u001b[0m\u001b[1;33m(\u001b[0m\u001b[1;33m)\u001b[0m\u001b[1;33m)\u001b[0m\u001b[1;33m:\u001b[0m\u001b[1;33m\u001b[0m\u001b[1;33m\u001b[0m\u001b[0m\n\u001b[0m\u001b[0;32m     66\u001b[0m             \u001b[1;32mif\u001b[0m \u001b[0mself\u001b[0m\u001b[1;33m.\u001b[0m\u001b[0mtemp_flag\u001b[0m\u001b[1;33m:\u001b[0m\u001b[1;33m\u001b[0m\u001b[1;33m\u001b[0m\u001b[0m\n\u001b[0;32m     67\u001b[0m                 \u001b[0mself\u001b[0m\u001b[1;33m.\u001b[0m\u001b[0mon_tick\u001b[0m\u001b[1;33m(\u001b[0m\u001b[1;33m)\u001b[0m\u001b[1;33m\u001b[0m\u001b[1;33m\u001b[0m\u001b[0m\n",
      "\u001b[1;31mTypeError\u001b[0m: get_ticks() missing 1 required positional argument: 'df'"
     ]
    }
   ],
   "source": [
    "pb.main()"
   ]
  },
  {
   "cell_type": "code",
   "execution_count": null,
   "metadata": {},
   "outputs": [],
   "source": []
  }
 ],
 "metadata": {
  "interpreter": {
   "hash": "5358296a40f291bd2120dabebe7eb32500c0c4a93eeca3dc9ff89ab92ed09b03"
  },
  "kernelspec": {
   "display_name": "Python 3.9.7 ('base')",
   "language": "python",
   "name": "python3"
  },
  "language_info": {
   "codemirror_mode": {
    "name": "ipython",
    "version": 3
   },
   "file_extension": ".py",
   "mimetype": "text/x-python",
   "name": "python",
   "nbconvert_exporter": "python",
   "pygments_lexer": "ipython3",
   "version": "3.9.7"
  },
  "orig_nbformat": 4
 },
 "nbformat": 4,
 "nbformat_minor": 2
}
