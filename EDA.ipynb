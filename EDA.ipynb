{
  "cells": [
    {
      "cell_type": "code",
      "execution_count": 2,
      "metadata": {
        "id": "tMN4PfHYL3_i"
      },
      "outputs": [],
      "source": [
        "import numpy as np\n",
        "import pandas as pd\n",
        "import matplotlib.pyplot as plt\n",
        "%matplotlib inline"
      ]
    },
    {
      "cell_type": "code",
      "execution_count": 3,
      "metadata": {
        "id": "MYAjJ0pEM8Wt"
      },
      "outputs": [],
      "source": [
        "import warnings\n",
        "warnings.simplefilter(\"ignore\")"
      ]
    },
    {
      "cell_type": "code",
      "execution_count": 4,
      "metadata": {
        "id": "m15WLjlRMCoG"
      },
      "outputs": [],
      "source": [
        "from tqdm import tqdm"
      ]
    },
    {
      "cell_type": "code",
      "execution_count": 5,
      "metadata": {
        "id": "MMaO3dyLOUpq"
      },
      "outputs": [],
      "source": [
        "import datetime"
      ]
    },
    {
      "cell_type": "code",
      "execution_count": 6,
      "metadata": {
        "id": "DYdLBqYWSbev"
      },
      "outputs": [],
      "source": [
        "from scipy import stats"
      ]
    },
    {
      "cell_type": "code",
      "execution_count": 7,
      "metadata": {
        "id": "uBE6eSXYURyd"
      },
      "outputs": [],
      "source": [
        "from sklearn.linear_model import LinearRegression"
      ]
    },
    {
      "cell_type": "code",
      "execution_count": 8,
      "metadata": {
        "id": "MMWxm38MXa4J"
      },
      "outputs": [],
      "source": [
        "import statsmodels.api as sm"
      ]
    },
    {
      "cell_type": "code",
      "execution_count": 9,
      "metadata": {
        "id": "v7PGcZQlMEFZ"
      },
      "outputs": [],
      "source": [
        "df = pd.read_csv(\"esapr.txt\", sep=\",\")"
      ]
    },
    {
      "cell_type": "code",
      "execution_count": 10,
      "metadata": {
        "colab": {
          "base_uri": "https://localhost:8080/",
          "height": 424
        },
        "id": "SnLF3tEqMIbq",
        "outputId": "a68c6c0b-c5e6-43ca-f022-071fac6e1398"
      },
      "outputs": [
        {
          "data": {
            "text/html": [
              "<div>\n",
              "<style scoped>\n",
              "    .dataframe tbody tr th:only-of-type {\n",
              "        vertical-align: middle;\n",
              "    }\n",
              "\n",
              "    .dataframe tbody tr th {\n",
              "        vertical-align: top;\n",
              "    }\n",
              "\n",
              "    .dataframe thead th {\n",
              "        text-align: right;\n",
              "    }\n",
              "</style>\n",
              "<table border=\"1\" class=\"dataframe\">\n",
              "  <thead>\n",
              "    <tr style=\"text-align: right;\">\n",
              "      <th></th>\n",
              "      <th>Date</th>\n",
              "      <th>Time</th>\n",
              "      <th>Open</th>\n",
              "      <th>High</th>\n",
              "      <th>Low</th>\n",
              "      <th>Close</th>\n",
              "      <th>Up</th>\n",
              "      <th>Down</th>\n",
              "      <th>Datetime</th>\n",
              "    </tr>\n",
              "  </thead>\n",
              "  <tbody>\n",
              "    <tr>\n",
              "      <th>0</th>\n",
              "      <td>04/01/2022</td>\n",
              "      <td>00:00:00</td>\n",
              "      <td>4547.75</td>\n",
              "      <td>4547.75</td>\n",
              "      <td>4547.25</td>\n",
              "      <td>4547.25</td>\n",
              "      <td>0</td>\n",
              "      <td>9</td>\n",
              "      <td>04/01/2022 00:00:00</td>\n",
              "    </tr>\n",
              "    <tr>\n",
              "      <th>1</th>\n",
              "      <td>04/01/2022</td>\n",
              "      <td>00:00:01</td>\n",
              "      <td>4547.25</td>\n",
              "      <td>4547.75</td>\n",
              "      <td>4547.25</td>\n",
              "      <td>4547.75</td>\n",
              "      <td>86</td>\n",
              "      <td>48</td>\n",
              "      <td>04/01/2022 00:00:01</td>\n",
              "    </tr>\n",
              "    <tr>\n",
              "      <th>2</th>\n",
              "      <td>04/01/2022</td>\n",
              "      <td>00:00:02</td>\n",
              "      <td>4547.50</td>\n",
              "      <td>4547.50</td>\n",
              "      <td>4546.50</td>\n",
              "      <td>4546.50</td>\n",
              "      <td>2</td>\n",
              "      <td>54</td>\n",
              "      <td>04/01/2022 00:00:02</td>\n",
              "    </tr>\n",
              "    <tr>\n",
              "      <th>3</th>\n",
              "      <td>04/01/2022</td>\n",
              "      <td>00:00:03</td>\n",
              "      <td>4546.25</td>\n",
              "      <td>4547.25</td>\n",
              "      <td>4546.25</td>\n",
              "      <td>4547.25</td>\n",
              "      <td>47</td>\n",
              "      <td>10</td>\n",
              "      <td>04/01/2022 00:00:03</td>\n",
              "    </tr>\n",
              "    <tr>\n",
              "      <th>4</th>\n",
              "      <td>04/01/2022</td>\n",
              "      <td>00:00:04</td>\n",
              "      <td>4547.00</td>\n",
              "      <td>4547.00</td>\n",
              "      <td>4546.50</td>\n",
              "      <td>4547.00</td>\n",
              "      <td>24</td>\n",
              "      <td>21</td>\n",
              "      <td>04/01/2022 00:00:04</td>\n",
              "    </tr>\n",
              "    <tr>\n",
              "      <th>...</th>\n",
              "      <td>...</td>\n",
              "      <td>...</td>\n",
              "      <td>...</td>\n",
              "      <td>...</td>\n",
              "      <td>...</td>\n",
              "      <td>...</td>\n",
              "      <td>...</td>\n",
              "      <td>...</td>\n",
              "      <td>...</td>\n",
              "    </tr>\n",
              "    <tr>\n",
              "      <th>943841</th>\n",
              "      <td>04/29/2022</td>\n",
              "      <td>13:59:56</td>\n",
              "      <td>4137.25</td>\n",
              "      <td>4138.00</td>\n",
              "      <td>4137.25</td>\n",
              "      <td>4138.00</td>\n",
              "      <td>47</td>\n",
              "      <td>1</td>\n",
              "      <td>04/29/2022 13:59:56</td>\n",
              "    </tr>\n",
              "    <tr>\n",
              "      <th>943842</th>\n",
              "      <td>04/29/2022</td>\n",
              "      <td>13:59:57</td>\n",
              "      <td>4137.50</td>\n",
              "      <td>4137.75</td>\n",
              "      <td>4137.50</td>\n",
              "      <td>4137.50</td>\n",
              "      <td>7</td>\n",
              "      <td>3</td>\n",
              "      <td>04/29/2022 13:59:57</td>\n",
              "    </tr>\n",
              "    <tr>\n",
              "      <th>943843</th>\n",
              "      <td>04/29/2022</td>\n",
              "      <td>13:59:58</td>\n",
              "      <td>4137.75</td>\n",
              "      <td>4137.75</td>\n",
              "      <td>4137.50</td>\n",
              "      <td>4137.50</td>\n",
              "      <td>4</td>\n",
              "      <td>2</td>\n",
              "      <td>04/29/2022 13:59:58</td>\n",
              "    </tr>\n",
              "    <tr>\n",
              "      <th>943844</th>\n",
              "      <td>04/29/2022</td>\n",
              "      <td>13:59:59</td>\n",
              "      <td>4137.00</td>\n",
              "      <td>4137.00</td>\n",
              "      <td>4137.00</td>\n",
              "      <td>4137.00</td>\n",
              "      <td>0</td>\n",
              "      <td>6</td>\n",
              "      <td>04/29/2022 13:59:59</td>\n",
              "    </tr>\n",
              "    <tr>\n",
              "      <th>943845</th>\n",
              "      <td>04/29/2022</td>\n",
              "      <td>14:00:00</td>\n",
              "      <td>4137.50</td>\n",
              "      <td>4138.00</td>\n",
              "      <td>4137.00</td>\n",
              "      <td>4137.00</td>\n",
              "      <td>25</td>\n",
              "      <td>2</td>\n",
              "      <td>04/29/2022 14:00:00</td>\n",
              "    </tr>\n",
              "  </tbody>\n",
              "</table>\n",
              "<p>943846 rows × 9 columns</p>\n",
              "</div>"
            ],
            "text/plain": [
              "              Date      Time     Open     High      Low    Close  Up  Down  \\\n",
              "0       04/01/2022  00:00:00  4547.75  4547.75  4547.25  4547.25   0     9   \n",
              "1       04/01/2022  00:00:01  4547.25  4547.75  4547.25  4547.75  86    48   \n",
              "2       04/01/2022  00:00:02  4547.50  4547.50  4546.50  4546.50   2    54   \n",
              "3       04/01/2022  00:00:03  4546.25  4547.25  4546.25  4547.25  47    10   \n",
              "4       04/01/2022  00:00:04  4547.00  4547.00  4546.50  4547.00  24    21   \n",
              "...            ...       ...      ...      ...      ...      ...  ..   ...   \n",
              "943841  04/29/2022  13:59:56  4137.25  4138.00  4137.25  4138.00  47     1   \n",
              "943842  04/29/2022  13:59:57  4137.50  4137.75  4137.50  4137.50   7     3   \n",
              "943843  04/29/2022  13:59:58  4137.75  4137.75  4137.50  4137.50   4     2   \n",
              "943844  04/29/2022  13:59:59  4137.00  4137.00  4137.00  4137.00   0     6   \n",
              "943845  04/29/2022  14:00:00  4137.50  4138.00  4137.00  4137.00  25     2   \n",
              "\n",
              "                   Datetime  \n",
              "0       04/01/2022 00:00:00  \n",
              "1       04/01/2022 00:00:01  \n",
              "2       04/01/2022 00:00:02  \n",
              "3       04/01/2022 00:00:03  \n",
              "4       04/01/2022 00:00:04  \n",
              "...                     ...  \n",
              "943841  04/29/2022 13:59:56  \n",
              "943842  04/29/2022 13:59:57  \n",
              "943843  04/29/2022 13:59:58  \n",
              "943844  04/29/2022 13:59:59  \n",
              "943845  04/29/2022 14:00:00  \n",
              "\n",
              "[943846 rows x 9 columns]"
            ]
          },
          "execution_count": 10,
          "metadata": {},
          "output_type": "execute_result"
        }
      ],
      "source": [
        "df['Datetime'] = df['Date'] + ' ' + df['Time']\n",
        "df"
      ]
    },
    {
      "cell_type": "code",
      "execution_count": 11,
      "metadata": {
        "colab": {
          "base_uri": "https://localhost:8080/",
          "height": 424
        },
        "id": "wg_Jgm7bMKys",
        "outputId": "1ddb9065-023b-4e69-b083-8f7adbd84505"
      },
      "outputs": [
        {
          "data": {
            "text/html": [
              "<div>\n",
              "<style scoped>\n",
              "    .dataframe tbody tr th:only-of-type {\n",
              "        vertical-align: middle;\n",
              "    }\n",
              "\n",
              "    .dataframe tbody tr th {\n",
              "        vertical-align: top;\n",
              "    }\n",
              "\n",
              "    .dataframe thead th {\n",
              "        text-align: right;\n",
              "    }\n",
              "</style>\n",
              "<table border=\"1\" class=\"dataframe\">\n",
              "  <thead>\n",
              "    <tr style=\"text-align: right;\">\n",
              "      <th></th>\n",
              "      <th>Datetime</th>\n",
              "      <th>Open</th>\n",
              "      <th>High</th>\n",
              "      <th>Low</th>\n",
              "      <th>Close</th>\n",
              "    </tr>\n",
              "  </thead>\n",
              "  <tbody>\n",
              "    <tr>\n",
              "      <th>0</th>\n",
              "      <td>04/01/2022 00:00:00</td>\n",
              "      <td>4547.75</td>\n",
              "      <td>4547.75</td>\n",
              "      <td>4547.25</td>\n",
              "      <td>4547.25</td>\n",
              "    </tr>\n",
              "    <tr>\n",
              "      <th>1</th>\n",
              "      <td>04/01/2022 00:00:01</td>\n",
              "      <td>4547.25</td>\n",
              "      <td>4547.75</td>\n",
              "      <td>4547.25</td>\n",
              "      <td>4547.75</td>\n",
              "    </tr>\n",
              "    <tr>\n",
              "      <th>2</th>\n",
              "      <td>04/01/2022 00:00:02</td>\n",
              "      <td>4547.50</td>\n",
              "      <td>4547.50</td>\n",
              "      <td>4546.50</td>\n",
              "      <td>4546.50</td>\n",
              "    </tr>\n",
              "    <tr>\n",
              "      <th>3</th>\n",
              "      <td>04/01/2022 00:00:03</td>\n",
              "      <td>4546.25</td>\n",
              "      <td>4547.25</td>\n",
              "      <td>4546.25</td>\n",
              "      <td>4547.25</td>\n",
              "    </tr>\n",
              "    <tr>\n",
              "      <th>4</th>\n",
              "      <td>04/01/2022 00:00:04</td>\n",
              "      <td>4547.00</td>\n",
              "      <td>4547.00</td>\n",
              "      <td>4546.50</td>\n",
              "      <td>4547.00</td>\n",
              "    </tr>\n",
              "    <tr>\n",
              "      <th>...</th>\n",
              "      <td>...</td>\n",
              "      <td>...</td>\n",
              "      <td>...</td>\n",
              "      <td>...</td>\n",
              "      <td>...</td>\n",
              "    </tr>\n",
              "    <tr>\n",
              "      <th>943841</th>\n",
              "      <td>04/29/2022 13:59:56</td>\n",
              "      <td>4137.25</td>\n",
              "      <td>4138.00</td>\n",
              "      <td>4137.25</td>\n",
              "      <td>4138.00</td>\n",
              "    </tr>\n",
              "    <tr>\n",
              "      <th>943842</th>\n",
              "      <td>04/29/2022 13:59:57</td>\n",
              "      <td>4137.50</td>\n",
              "      <td>4137.75</td>\n",
              "      <td>4137.50</td>\n",
              "      <td>4137.50</td>\n",
              "    </tr>\n",
              "    <tr>\n",
              "      <th>943843</th>\n",
              "      <td>04/29/2022 13:59:58</td>\n",
              "      <td>4137.75</td>\n",
              "      <td>4137.75</td>\n",
              "      <td>4137.50</td>\n",
              "      <td>4137.50</td>\n",
              "    </tr>\n",
              "    <tr>\n",
              "      <th>943844</th>\n",
              "      <td>04/29/2022 13:59:59</td>\n",
              "      <td>4137.00</td>\n",
              "      <td>4137.00</td>\n",
              "      <td>4137.00</td>\n",
              "      <td>4137.00</td>\n",
              "    </tr>\n",
              "    <tr>\n",
              "      <th>943845</th>\n",
              "      <td>04/29/2022 14:00:00</td>\n",
              "      <td>4137.50</td>\n",
              "      <td>4138.00</td>\n",
              "      <td>4137.00</td>\n",
              "      <td>4137.00</td>\n",
              "    </tr>\n",
              "  </tbody>\n",
              "</table>\n",
              "<p>943846 rows × 5 columns</p>\n",
              "</div>"
            ],
            "text/plain": [
              "                   Datetime     Open     High      Low    Close\n",
              "0       04/01/2022 00:00:00  4547.75  4547.75  4547.25  4547.25\n",
              "1       04/01/2022 00:00:01  4547.25  4547.75  4547.25  4547.75\n",
              "2       04/01/2022 00:00:02  4547.50  4547.50  4546.50  4546.50\n",
              "3       04/01/2022 00:00:03  4546.25  4547.25  4546.25  4547.25\n",
              "4       04/01/2022 00:00:04  4547.00  4547.00  4546.50  4547.00\n",
              "...                     ...      ...      ...      ...      ...\n",
              "943841  04/29/2022 13:59:56  4137.25  4138.00  4137.25  4138.00\n",
              "943842  04/29/2022 13:59:57  4137.50  4137.75  4137.50  4137.50\n",
              "943843  04/29/2022 13:59:58  4137.75  4137.75  4137.50  4137.50\n",
              "943844  04/29/2022 13:59:59  4137.00  4137.00  4137.00  4137.00\n",
              "943845  04/29/2022 14:00:00  4137.50  4138.00  4137.00  4137.00\n",
              "\n",
              "[943846 rows x 5 columns]"
            ]
          },
          "execution_count": 11,
          "metadata": {},
          "output_type": "execute_result"
        }
      ],
      "source": [
        "df = df[['Datetime', 'Open', 'High', 'Low', 'Close']]\n",
        "df"
      ]
    },
    {
      "cell_type": "code",
      "execution_count": 12,
      "metadata": {
        "colab": {
          "base_uri": "https://localhost:8080/",
          "height": 528
        },
        "id": "KQaEF2LQMbn8",
        "outputId": "1027b0ba-629a-4105-8146-e27c991f8699"
      },
      "outputs": [
        {
          "data": {
            "text/html": [
              "<div>\n",
              "<style scoped>\n",
              "    .dataframe tbody tr th:only-of-type {\n",
              "        vertical-align: middle;\n",
              "    }\n",
              "\n",
              "    .dataframe tbody tr th {\n",
              "        vertical-align: top;\n",
              "    }\n",
              "\n",
              "    .dataframe thead th {\n",
              "        text-align: right;\n",
              "    }\n",
              "</style>\n",
              "<table border=\"1\" class=\"dataframe\">\n",
              "  <thead>\n",
              "    <tr style=\"text-align: right;\">\n",
              "      <th></th>\n",
              "      <th>Datetime</th>\n",
              "      <th>Open</th>\n",
              "      <th>High</th>\n",
              "      <th>Low</th>\n",
              "      <th>Close</th>\n",
              "    </tr>\n",
              "  </thead>\n",
              "  <tbody>\n",
              "    <tr>\n",
              "      <th>0</th>\n",
              "      <td>2022-04-01 00:00:00</td>\n",
              "      <td>4547.75</td>\n",
              "      <td>4547.75</td>\n",
              "      <td>4547.25</td>\n",
              "      <td>4547.25</td>\n",
              "    </tr>\n",
              "    <tr>\n",
              "      <th>1</th>\n",
              "      <td>2022-04-01 00:00:01</td>\n",
              "      <td>4547.25</td>\n",
              "      <td>4547.75</td>\n",
              "      <td>4547.25</td>\n",
              "      <td>4547.75</td>\n",
              "    </tr>\n",
              "    <tr>\n",
              "      <th>2</th>\n",
              "      <td>2022-04-01 00:00:02</td>\n",
              "      <td>4547.50</td>\n",
              "      <td>4547.50</td>\n",
              "      <td>4546.50</td>\n",
              "      <td>4546.50</td>\n",
              "    </tr>\n",
              "    <tr>\n",
              "      <th>3</th>\n",
              "      <td>2022-04-01 00:00:03</td>\n",
              "      <td>4546.25</td>\n",
              "      <td>4547.25</td>\n",
              "      <td>4546.25</td>\n",
              "      <td>4547.25</td>\n",
              "    </tr>\n",
              "    <tr>\n",
              "      <th>4</th>\n",
              "      <td>2022-04-01 00:00:04</td>\n",
              "      <td>4547.00</td>\n",
              "      <td>4547.00</td>\n",
              "      <td>4546.50</td>\n",
              "      <td>4547.00</td>\n",
              "    </tr>\n",
              "    <tr>\n",
              "      <th>...</th>\n",
              "      <td>...</td>\n",
              "      <td>...</td>\n",
              "      <td>...</td>\n",
              "      <td>...</td>\n",
              "      <td>...</td>\n",
              "    </tr>\n",
              "    <tr>\n",
              "      <th>943841</th>\n",
              "      <td>2022-04-29 13:59:56</td>\n",
              "      <td>4137.25</td>\n",
              "      <td>4138.00</td>\n",
              "      <td>4137.25</td>\n",
              "      <td>4138.00</td>\n",
              "    </tr>\n",
              "    <tr>\n",
              "      <th>943842</th>\n",
              "      <td>2022-04-29 13:59:57</td>\n",
              "      <td>4137.50</td>\n",
              "      <td>4137.75</td>\n",
              "      <td>4137.50</td>\n",
              "      <td>4137.50</td>\n",
              "    </tr>\n",
              "    <tr>\n",
              "      <th>943843</th>\n",
              "      <td>2022-04-29 13:59:58</td>\n",
              "      <td>4137.75</td>\n",
              "      <td>4137.75</td>\n",
              "      <td>4137.50</td>\n",
              "      <td>4137.50</td>\n",
              "    </tr>\n",
              "    <tr>\n",
              "      <th>943844</th>\n",
              "      <td>2022-04-29 13:59:59</td>\n",
              "      <td>4137.00</td>\n",
              "      <td>4137.00</td>\n",
              "      <td>4137.00</td>\n",
              "      <td>4137.00</td>\n",
              "    </tr>\n",
              "    <tr>\n",
              "      <th>943845</th>\n",
              "      <td>2022-04-29 14:00:00</td>\n",
              "      <td>4137.50</td>\n",
              "      <td>4138.00</td>\n",
              "      <td>4137.00</td>\n",
              "      <td>4137.00</td>\n",
              "    </tr>\n",
              "  </tbody>\n",
              "</table>\n",
              "<p>943846 rows × 5 columns</p>\n",
              "</div>"
            ],
            "text/plain": [
              "                  Datetime     Open     High      Low    Close\n",
              "0      2022-04-01 00:00:00  4547.75  4547.75  4547.25  4547.25\n",
              "1      2022-04-01 00:00:01  4547.25  4547.75  4547.25  4547.75\n",
              "2      2022-04-01 00:00:02  4547.50  4547.50  4546.50  4546.50\n",
              "3      2022-04-01 00:00:03  4546.25  4547.25  4546.25  4547.25\n",
              "4      2022-04-01 00:00:04  4547.00  4547.00  4546.50  4547.00\n",
              "...                    ...      ...      ...      ...      ...\n",
              "943841 2022-04-29 13:59:56  4137.25  4138.00  4137.25  4138.00\n",
              "943842 2022-04-29 13:59:57  4137.50  4137.75  4137.50  4137.50\n",
              "943843 2022-04-29 13:59:58  4137.75  4137.75  4137.50  4137.50\n",
              "943844 2022-04-29 13:59:59  4137.00  4137.00  4137.00  4137.00\n",
              "943845 2022-04-29 14:00:00  4137.50  4138.00  4137.00  4137.00\n",
              "\n",
              "[943846 rows x 5 columns]"
            ]
          },
          "execution_count": 12,
          "metadata": {},
          "output_type": "execute_result"
        }
      ],
      "source": [
        "df['Datetime'] = pd.to_datetime(df['Datetime'])\n",
        "df"
      ]
    },
    {
      "cell_type": "code",
      "execution_count": 13,
      "metadata": {
        "id": "5Puz0yKKMgMq"
      },
      "outputs": [],
      "source": [
        "ohlc_dict = {\n",
        "    \"Open\": \"first\",\n",
        "    \"High\": \"max\",\n",
        "    \"Low\": \"min\",\n",
        "    \"Close\": \"last\"\n",
        "}"
      ]
    },
    {
      "cell_type": "code",
      "execution_count": 14,
      "metadata": {
        "id": "rtXaUHsfNI8E"
      },
      "outputs": [],
      "source": [
        "df_resample_raw = df.set_index(\"Datetime\").resample(\"1T\", closed=\"left\", label=\"left\").agg(ohlc_dict)"
      ]
    },
    {
      "cell_type": "code",
      "execution_count": 15,
      "metadata": {
        "id": "vSoOP5ABNoK-"
      },
      "outputs": [],
      "source": [
        "df_resample_raw.reset_index(inplace=True)"
      ]
    },
    {
      "cell_type": "code",
      "execution_count": 16,
      "metadata": {
        "id": "YMPNWLc6O0AE"
      },
      "outputs": [],
      "source": [
        "df_resample = df_resample_raw.dropna(subset=['Open'])"
      ]
    },
    {
      "cell_type": "code",
      "execution_count": 17,
      "metadata": {
        "id": "pOJ1k43APQoK"
      },
      "outputs": [],
      "source": [
        "df_resample['hl2'] = ((df_resample['High'] - df_resample['Low']) / 2) + df_resample['Low']"
      ]
    },
    {
      "cell_type": "code",
      "execution_count": 20,
      "metadata": {
        "colab": {
          "base_uri": "https://localhost:8080/",
          "height": 424
        },
        "id": "Wz1ebH-QPaBP",
        "outputId": "84e77ef7-48bb-42b4-ec1c-8ec3e2d252f1"
      },
      "outputs": [],
      "source": [
        "df_resample['Date'] = df_resample['Datetime'].dt.date"
      ]
    },
    {
      "cell_type": "code",
      "execution_count": 59,
      "metadata": {},
      "outputs": [],
      "source": [
        "df_resample.to_csv(\"resampled.csv\", index=False)"
      ]
    },
    {
      "cell_type": "code",
      "execution_count": 21,
      "metadata": {
        "id": "fCLtuQl9QhZX"
      },
      "outputs": [],
      "source": [
        "df_try = df_resample[df_resample['Date'] == datetime.date(2022, 4, 4)].iloc[-30:]"
      ]
    },
    {
      "cell_type": "code",
      "execution_count": null,
      "metadata": {
        "colab": {
          "base_uri": "https://localhost:8080/",
          "height": 990
        },
        "id": "bojYqMmcQw2P",
        "outputId": "32b5bc64-fa91-48a4-a95b-c5bb516a53a6"
      },
      "outputs": [],
      "source": [
        "df_try = df_try.reset_index().drop(columns='index').reset_index()\n",
        "df_try"
      ]
    },
    {
      "cell_type": "markdown",
      "metadata": {},
      "source": [
        "## Statsmodel api"
      ]
    },
    {
      "cell_type": "code",
      "execution_count": 38,
      "metadata": {
        "id": "TEbc1pJ5b22H"
      },
      "outputs": [],
      "source": [
        "x = df_try['index'].to_list()\n",
        "y = df_try['hl2'].to_list()\n",
        "\n",
        "x = sm.add_constant(x)\n",
        "\n",
        "result = sm.OLS(y, x).fit()"
      ]
    },
    {
      "cell_type": "code",
      "execution_count": 39,
      "metadata": {
        "colab": {
          "base_uri": "https://localhost:8080/"
        },
        "id": "td9vGwjYvgSY",
        "outputId": "da7f08b6-c58b-41bc-fd6a-575b213ea8b5"
      },
      "outputs": [
        {
          "name": "stdout",
          "output_type": "stream",
          "text": [
            "[ 4.57364516e+03 -4.70800890e-02]\n"
          ]
        }
      ],
      "source": [
        "print(result.params)"
      ]
    },
    {
      "cell_type": "code",
      "execution_count": 40,
      "metadata": {
        "colab": {
          "base_uri": "https://localhost:8080/"
        },
        "id": "kQKed2zwcGv-",
        "outputId": "0b0a8d2a-b841-4a5c-fd1f-76615f0d4f2a"
      },
      "outputs": [
        {
          "data": {
            "text/plain": [
              "array([4573.64516129, 4573.5980812 , 4573.55100111, 4573.50392102,\n",
              "       4573.45684093, 4573.40976085, 4573.36268076, 4573.31560067,\n",
              "       4573.26852058, 4573.22144049, 4573.1743604 , 4573.12728031,\n",
              "       4573.08020022, 4573.03312013, 4572.98604004, 4572.93895996,\n",
              "       4572.89187987, 4572.84479978, 4572.79771969, 4572.7506396 ,\n",
              "       4572.70355951, 4572.65647942, 4572.60939933, 4572.56231924,\n",
              "       4572.51523915, 4572.46815907, 4572.42107898, 4572.37399889,\n",
              "       4572.3269188 , 4572.27983871])"
            ]
          },
          "execution_count": 40,
          "metadata": {},
          "output_type": "execute_result"
        }
      ],
      "source": [
        "result.fittedvalues"
      ]
    },
    {
      "cell_type": "code",
      "execution_count": 41,
      "metadata": {
        "id": "OEyvaBuUWzTX"
      },
      "outputs": [],
      "source": [
        "df_try['linreg2'] = result.fittedvalues"
      ]
    },
    {
      "cell_type": "markdown",
      "metadata": {},
      "source": [
        "## Sklearn"
      ]
    },
    {
      "cell_type": "code",
      "execution_count": 23,
      "metadata": {},
      "outputs": [],
      "source": [
        "lr = LinearRegression()"
      ]
    },
    {
      "cell_type": "code",
      "execution_count": 28,
      "metadata": {},
      "outputs": [
        {
          "data": {
            "text/plain": [
              "LinearRegression()"
            ]
          },
          "execution_count": 28,
          "metadata": {},
          "output_type": "execute_result"
        }
      ],
      "source": [
        "lr.fit(df_try[['index']], df_try['hl2'])"
      ]
    },
    {
      "cell_type": "code",
      "execution_count": 48,
      "metadata": {},
      "outputs": [],
      "source": [
        "m = lr.coef_[0]"
      ]
    },
    {
      "cell_type": "code",
      "execution_count": 49,
      "metadata": {},
      "outputs": [
        {
          "data": {
            "text/plain": [
              "-0.047080088987764175"
            ]
          },
          "execution_count": 49,
          "metadata": {},
          "output_type": "execute_result"
        }
      ],
      "source": [
        "m"
      ]
    },
    {
      "cell_type": "code",
      "execution_count": 50,
      "metadata": {},
      "outputs": [],
      "source": [
        "c = lr.intercept_"
      ]
    },
    {
      "cell_type": "code",
      "execution_count": 51,
      "metadata": {},
      "outputs": [
        {
          "data": {
            "text/plain": [
              "4573.645161290322"
            ]
          },
          "execution_count": 51,
          "metadata": {},
          "output_type": "execute_result"
        }
      ],
      "source": [
        "c"
      ]
    },
    {
      "cell_type": "code",
      "execution_count": 32,
      "metadata": {},
      "outputs": [],
      "source": [
        "res = lr.predict(df_try[['index']])"
      ]
    },
    {
      "cell_type": "code",
      "execution_count": 35,
      "metadata": {},
      "outputs": [],
      "source": [
        "df_try['linreg1'] = res"
      ]
    },
    {
      "cell_type": "code",
      "execution_count": 37,
      "metadata": {},
      "outputs": [
        {
          "data": {
            "text/plain": [
              "<AxesSubplot:>"
            ]
          },
          "execution_count": 37,
          "metadata": {},
          "output_type": "execute_result"
        },
        {
          "data": {
            "image/png": "[encoded data removed]",
            "text/plain": [
              "<Figure size 432x288 with 1 Axes>"
            ]
          },
          "metadata": {
            "needs_background": "light"
          },
          "output_type": "display_data"
        }
      ],
      "source": [
        "df_try[['hl2','linreg1']].plot()"
      ]
    },
    {
      "cell_type": "code",
      "execution_count": 57,
      "metadata": {},
      "outputs": [
        {
          "data": {
            "text/html": [
              "<div>\n",
              "<style scoped>\n",
              "    .dataframe tbody tr th:only-of-type {\n",
              "        vertical-align: middle;\n",
              "    }\n",
              "\n",
              "    .dataframe tbody tr th {\n",
              "        vertical-align: top;\n",
              "    }\n",
              "\n",
              "    .dataframe thead th {\n",
              "        text-align: right;\n",
              "    }\n",
              "</style>\n",
              "<table border=\"1\" class=\"dataframe\">\n",
              "  <thead>\n",
              "    <tr style=\"text-align: right;\">\n",
              "      <th></th>\n",
              "      <th>index</th>\n",
              "      <th>Datetime</th>\n",
              "      <th>Open</th>\n",
              "      <th>High</th>\n",
              "      <th>Low</th>\n",
              "      <th>Close</th>\n",
              "      <th>hl2</th>\n",
              "      <th>Date</th>\n",
              "      <th>linreg1</th>\n",
              "      <th>linreg2</th>\n",
              "      <th>line</th>\n",
              "    </tr>\n",
              "  </thead>\n",
              "  <tbody>\n",
              "    <tr>\n",
              "      <th>0</th>\n",
              "      <td>0</td>\n",
              "      <td>2022-04-04 23:30:00</td>\n",
              "      <td>4574.00</td>\n",
              "      <td>4574.00</td>\n",
              "      <td>4573.50</td>\n",
              "      <td>4573.50</td>\n",
              "      <td>4573.750</td>\n",
              "      <td>2022-04-04</td>\n",
              "      <td>4573.645161</td>\n",
              "      <td>4573.645161</td>\n",
              "      <td>4573.645161</td>\n",
              "    </tr>\n",
              "    <tr>\n",
              "      <th>1</th>\n",
              "      <td>1</td>\n",
              "      <td>2022-04-04 23:31:00</td>\n",
              "      <td>4573.75</td>\n",
              "      <td>4573.75</td>\n",
              "      <td>4573.50</td>\n",
              "      <td>4573.50</td>\n",
              "      <td>4573.625</td>\n",
              "      <td>2022-04-04</td>\n",
              "      <td>4573.598081</td>\n",
              "      <td>4573.598081</td>\n",
              "      <td>4573.598081</td>\n",
              "    </tr>\n",
              "    <tr>\n",
              "      <th>2</th>\n",
              "      <td>2</td>\n",
              "      <td>2022-04-04 23:32:00</td>\n",
              "      <td>4573.25</td>\n",
              "      <td>4573.25</td>\n",
              "      <td>4573.00</td>\n",
              "      <td>4573.25</td>\n",
              "      <td>4573.125</td>\n",
              "      <td>2022-04-04</td>\n",
              "      <td>4573.551001</td>\n",
              "      <td>4573.551001</td>\n",
              "      <td>4573.551001</td>\n",
              "    </tr>\n",
              "    <tr>\n",
              "      <th>3</th>\n",
              "      <td>3</td>\n",
              "      <td>2022-04-04 23:33:00</td>\n",
              "      <td>4573.00</td>\n",
              "      <td>4573.50</td>\n",
              "      <td>4572.75</td>\n",
              "      <td>4573.25</td>\n",
              "      <td>4573.125</td>\n",
              "      <td>2022-04-04</td>\n",
              "      <td>4573.503921</td>\n",
              "      <td>4573.503921</td>\n",
              "      <td>4573.503921</td>\n",
              "    </tr>\n",
              "    <tr>\n",
              "      <th>4</th>\n",
              "      <td>4</td>\n",
              "      <td>2022-04-04 23:34:00</td>\n",
              "      <td>4573.50</td>\n",
              "      <td>4573.75</td>\n",
              "      <td>4573.25</td>\n",
              "      <td>4573.75</td>\n",
              "      <td>4573.500</td>\n",
              "      <td>2022-04-04</td>\n",
              "      <td>4573.456841</td>\n",
              "      <td>4573.456841</td>\n",
              "      <td>4573.456841</td>\n",
              "    </tr>\n",
              "  </tbody>\n",
              "</table>\n",
              "</div>"
            ],
            "text/plain": [
              "   index            Datetime     Open     High      Low    Close       hl2  \\\n",
              "0      0 2022-04-04 23:30:00  4574.00  4574.00  4573.50  4573.50  4573.750   \n",
              "1      1 2022-04-04 23:31:00  4573.75  4573.75  4573.50  4573.50  4573.625   \n",
              "2      2 2022-04-04 23:32:00  4573.25  4573.25  4573.00  4573.25  4573.125   \n",
              "3      3 2022-04-04 23:33:00  4573.00  4573.50  4572.75  4573.25  4573.125   \n",
              "4      4 2022-04-04 23:34:00  4573.50  4573.75  4573.25  4573.75  4573.500   \n",
              "\n",
              "         Date      linreg1      linreg2         line  \n",
              "0  2022-04-04  4573.645161  4573.645161  4573.645161  \n",
              "1  2022-04-04  4573.598081  4573.598081  4573.598081  \n",
              "2  2022-04-04  4573.551001  4573.551001  4573.551001  \n",
              "3  2022-04-04  4573.503921  4573.503921  4573.503921  \n",
              "4  2022-04-04  4573.456841  4573.456841  4573.456841  "
            ]
          },
          "execution_count": 57,
          "metadata": {},
          "output_type": "execute_result"
        }
      ],
      "source": [
        "df_try.head()"
      ]
    },
    {
      "cell_type": "code",
      "execution_count": 55,
      "metadata": {},
      "outputs": [],
      "source": [
        "def lin_reg(x):\n",
        "    return (m * x) + c"
      ]
    },
    {
      "cell_type": "code",
      "execution_count": 56,
      "metadata": {},
      "outputs": [],
      "source": [
        "df_try['line'] = df_try['index'].apply(lin_reg)"
      ]
    },
    {
      "cell_type": "code",
      "execution_count": null,
      "metadata": {},
      "outputs": [],
      "source": []
    }
  ],
  "metadata": {
    "colab": {
      "name": "EDA.ipynb",
      "provenance": []
    },
    "interpreter": {
      "hash": "5358296a40f291bd2120dabebe7eb32500c0c4a93eeca3dc9ff89ab92ed09b03"
    },
    "kernelspec": {
      "display_name": "Python 3.9.7 ('base')",
      "language": "python",
      "name": "python3"
    },
    "language_info": {
      "codemirror_mode": {
        "name": "ipython",
        "version": 3
      },
      "file_extension": ".py",
      "mimetype": "text/x-python",
      "name": "python",
      "nbconvert_exporter": "python",
      "pygments_lexer": "ipython3",
      "version": "3.9.7"
    }
  },
  "nbformat": 4,
  "nbformat_minor": 0
}
